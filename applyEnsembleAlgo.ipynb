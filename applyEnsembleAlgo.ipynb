{
 "cells": [
  {
   "cell_type": "markdown",
   "metadata": {},
   "source": [
    "# Shill Bidding Dataset Analysis"
   ]
  },
  {
   "cell_type": "code",
   "execution_count": 1,
   "metadata": {},
   "outputs": [],
   "source": [
    "import pandas as pd\n",
    "import numpy as np\n",
    "from numpy import where\n",
    "import matplotlib.pyplot as plt\n",
    "import seaborn as sns\n",
    "from pandas import Series, DataFrame\n",
    "from scipy import stats\n",
    "#from scipy.special import boxcox1p\n",
    "#from scipy.stats import boxcox_normmax\n",
    "from sklearn import svm, tree, linear_model, neighbors, naive_bayes, ensemble, discriminant_analysis, gaussian_process\n",
    "#from xgboost import XGBClassifier\n",
    "from sklearn.svm import SVC\n",
    "\n",
    "#Common Model Helpers\n",
    "from sklearn.preprocessing import StandardScaler\n",
    "from sklearn import preprocessing\n",
    "from sklearn.preprocessing import OneHotEncoder, LabelEncoder\n",
    "from sklearn import feature_selection\n",
    "from sklearn import model_selection\n",
    "from sklearn.model_selection import train_test_split\n",
    "from sklearn import metrics\n",
    "import random\n",
    "from sklearn.decomposition import PCA\n",
    "from sklearn.linear_model import LogisticRegression\n",
    "from sklearn.metrics import accuracy_score, classification_report\n",
    "\n",
    "#Visualization\n",
    "import matplotlib as mpl\n",
    "import matplotlib.pyplot as plt\n",
    "import matplotlib.pylab as pylab\n",
    "import seaborn as sns\n",
    "from matplotlib.colors import ListedColormap\n",
    "from matplotlib import pyplot\n",
    "\n",
    "\n",
    "from tqdm import tqdm\n",
    "import tensorflow as tf\n",
    "from tensorflow import keras\n",
    "from tensorflow.keras import layers\n",
    "\n",
    "import optuna\n",
    "\n",
    "from imblearn.over_sampling import SMOTE\n",
    "from imblearn.under_sampling import RandomUnderSampler\n",
    "\n",
    "\n",
    "from collections import Counter\n",
    "import warnings\n",
    "warnings.simplefilter(action='ignore', category=FutureWarning)\n",
    "from sklearn.svm import SVC\n",
    "from imblearn.pipeline import Pipeline\n",
    "\n",
    "seed = 42"
   ]
  },
  {
   "cell_type": "code",
   "execution_count": 2,
   "metadata": {},
   "outputs": [
    {
     "name": "stdout",
     "output_type": "stream",
     "text": [
      "1.0.2\n"
     ]
    }
   ],
   "source": [
    "import sklearn\n",
    "print(sklearn.__version__)"
   ]
  },
  {
   "cell_type": "code",
   "execution_count": 3,
   "metadata": {},
   "outputs": [
    {
     "data": {
      "text/html": [
       "<div>\n",
       "<style scoped>\n",
       "    .dataframe tbody tr th:only-of-type {\n",
       "        vertical-align: middle;\n",
       "    }\n",
       "\n",
       "    .dataframe tbody tr th {\n",
       "        vertical-align: top;\n",
       "    }\n",
       "\n",
       "    .dataframe thead th {\n",
       "        text-align: right;\n",
       "    }\n",
       "</style>\n",
       "<table border=\"1\" class=\"dataframe\">\n",
       "  <thead>\n",
       "    <tr style=\"text-align: right;\">\n",
       "      <th></th>\n",
       "      <th>Record_ID</th>\n",
       "      <th>Auction_ID</th>\n",
       "      <th>Bidder_ID</th>\n",
       "      <th>Bidder_Tendency</th>\n",
       "      <th>Bidding_Ratio</th>\n",
       "      <th>Successive_Outbidding</th>\n",
       "      <th>Last_Bidding</th>\n",
       "      <th>Auction_Bids</th>\n",
       "      <th>Starting_Price_Average</th>\n",
       "      <th>Early_Bidding</th>\n",
       "      <th>Winning_Ratio</th>\n",
       "      <th>Auction_Duration</th>\n",
       "      <th>Class</th>\n",
       "    </tr>\n",
       "  </thead>\n",
       "  <tbody>\n",
       "    <tr>\n",
       "      <th>0</th>\n",
       "      <td>1</td>\n",
       "      <td>732</td>\n",
       "      <td>_***i</td>\n",
       "      <td>0.200000</td>\n",
       "      <td>0.400000</td>\n",
       "      <td>0.0</td>\n",
       "      <td>0.000028</td>\n",
       "      <td>0.0</td>\n",
       "      <td>0.993593</td>\n",
       "      <td>0.000028</td>\n",
       "      <td>0.666667</td>\n",
       "      <td>5</td>\n",
       "      <td>0</td>\n",
       "    </tr>\n",
       "    <tr>\n",
       "      <th>1</th>\n",
       "      <td>2</td>\n",
       "      <td>732</td>\n",
       "      <td>g***r</td>\n",
       "      <td>0.024390</td>\n",
       "      <td>0.200000</td>\n",
       "      <td>0.0</td>\n",
       "      <td>0.013123</td>\n",
       "      <td>0.0</td>\n",
       "      <td>0.993593</td>\n",
       "      <td>0.013123</td>\n",
       "      <td>0.944444</td>\n",
       "      <td>5</td>\n",
       "      <td>0</td>\n",
       "    </tr>\n",
       "    <tr>\n",
       "      <th>2</th>\n",
       "      <td>3</td>\n",
       "      <td>732</td>\n",
       "      <td>t***p</td>\n",
       "      <td>0.142857</td>\n",
       "      <td>0.200000</td>\n",
       "      <td>0.0</td>\n",
       "      <td>0.003042</td>\n",
       "      <td>0.0</td>\n",
       "      <td>0.993593</td>\n",
       "      <td>0.003042</td>\n",
       "      <td>1.000000</td>\n",
       "      <td>5</td>\n",
       "      <td>0</td>\n",
       "    </tr>\n",
       "    <tr>\n",
       "      <th>3</th>\n",
       "      <td>4</td>\n",
       "      <td>732</td>\n",
       "      <td>7***n</td>\n",
       "      <td>0.100000</td>\n",
       "      <td>0.200000</td>\n",
       "      <td>0.0</td>\n",
       "      <td>0.097477</td>\n",
       "      <td>0.0</td>\n",
       "      <td>0.993593</td>\n",
       "      <td>0.097477</td>\n",
       "      <td>1.000000</td>\n",
       "      <td>5</td>\n",
       "      <td>0</td>\n",
       "    </tr>\n",
       "    <tr>\n",
       "      <th>4</th>\n",
       "      <td>5</td>\n",
       "      <td>900</td>\n",
       "      <td>z***z</td>\n",
       "      <td>0.051282</td>\n",
       "      <td>0.222222</td>\n",
       "      <td>0.0</td>\n",
       "      <td>0.001318</td>\n",
       "      <td>0.0</td>\n",
       "      <td>0.000000</td>\n",
       "      <td>0.001242</td>\n",
       "      <td>0.500000</td>\n",
       "      <td>7</td>\n",
       "      <td>0</td>\n",
       "    </tr>\n",
       "  </tbody>\n",
       "</table>\n",
       "</div>"
      ],
      "text/plain": [
       "   Record_ID  Auction_ID Bidder_ID  Bidder_Tendency  Bidding_Ratio  \\\n",
       "0          1         732     _***i         0.200000       0.400000   \n",
       "1          2         732     g***r         0.024390       0.200000   \n",
       "2          3         732     t***p         0.142857       0.200000   \n",
       "3          4         732     7***n         0.100000       0.200000   \n",
       "4          5         900     z***z         0.051282       0.222222   \n",
       "\n",
       "   Successive_Outbidding  Last_Bidding  Auction_Bids  Starting_Price_Average  \\\n",
       "0                    0.0      0.000028           0.0                0.993593   \n",
       "1                    0.0      0.013123           0.0                0.993593   \n",
       "2                    0.0      0.003042           0.0                0.993593   \n",
       "3                    0.0      0.097477           0.0                0.993593   \n",
       "4                    0.0      0.001318           0.0                0.000000   \n",
       "\n",
       "   Early_Bidding  Winning_Ratio  Auction_Duration  Class  \n",
       "0       0.000028       0.666667                 5      0  \n",
       "1       0.013123       0.944444                 5      0  \n",
       "2       0.003042       1.000000                 5      0  \n",
       "3       0.097477       1.000000                 5      0  \n",
       "4       0.001242       0.500000                 7      0  "
      ]
     },
     "execution_count": 3,
     "metadata": {},
     "output_type": "execute_result"
    }
   ],
   "source": [
    "shill = pd.read_csv('Shill_Bidding_Dataset.csv')\n",
    "shill.head()"
   ]
  },
  {
   "cell_type": "code",
   "execution_count": 4,
   "metadata": {},
   "outputs": [
    {
     "data": {
      "text/html": [
       "<div>\n",
       "<style scoped>\n",
       "    .dataframe tbody tr th:only-of-type {\n",
       "        vertical-align: middle;\n",
       "    }\n",
       "\n",
       "    .dataframe tbody tr th {\n",
       "        vertical-align: top;\n",
       "    }\n",
       "\n",
       "    .dataframe thead th {\n",
       "        text-align: right;\n",
       "    }\n",
       "</style>\n",
       "<table border=\"1\" class=\"dataframe\">\n",
       "  <thead>\n",
       "    <tr style=\"text-align: right;\">\n",
       "      <th></th>\n",
       "      <th>Bidder_Tendency</th>\n",
       "      <th>Bidding_Ratio</th>\n",
       "      <th>Successive_Outbidding</th>\n",
       "      <th>Last_Bidding</th>\n",
       "      <th>Auction_Bids</th>\n",
       "      <th>Starting_Price_Average</th>\n",
       "      <th>Early_Bidding</th>\n",
       "      <th>Winning_Ratio</th>\n",
       "      <th>Auction_Duration</th>\n",
       "    </tr>\n",
       "  </thead>\n",
       "  <tbody>\n",
       "    <tr>\n",
       "      <th>0</th>\n",
       "      <td>0.200000</td>\n",
       "      <td>0.400000</td>\n",
       "      <td>0.0</td>\n",
       "      <td>0.000028</td>\n",
       "      <td>0.000000</td>\n",
       "      <td>0.993593</td>\n",
       "      <td>0.000028</td>\n",
       "      <td>0.666667</td>\n",
       "      <td>5</td>\n",
       "    </tr>\n",
       "    <tr>\n",
       "      <th>1</th>\n",
       "      <td>0.024390</td>\n",
       "      <td>0.200000</td>\n",
       "      <td>0.0</td>\n",
       "      <td>0.013123</td>\n",
       "      <td>0.000000</td>\n",
       "      <td>0.993593</td>\n",
       "      <td>0.013123</td>\n",
       "      <td>0.944444</td>\n",
       "      <td>5</td>\n",
       "    </tr>\n",
       "    <tr>\n",
       "      <th>2</th>\n",
       "      <td>0.142857</td>\n",
       "      <td>0.200000</td>\n",
       "      <td>0.0</td>\n",
       "      <td>0.003042</td>\n",
       "      <td>0.000000</td>\n",
       "      <td>0.993593</td>\n",
       "      <td>0.003042</td>\n",
       "      <td>1.000000</td>\n",
       "      <td>5</td>\n",
       "    </tr>\n",
       "    <tr>\n",
       "      <th>3</th>\n",
       "      <td>0.100000</td>\n",
       "      <td>0.200000</td>\n",
       "      <td>0.0</td>\n",
       "      <td>0.097477</td>\n",
       "      <td>0.000000</td>\n",
       "      <td>0.993593</td>\n",
       "      <td>0.097477</td>\n",
       "      <td>1.000000</td>\n",
       "      <td>5</td>\n",
       "    </tr>\n",
       "    <tr>\n",
       "      <th>4</th>\n",
       "      <td>0.051282</td>\n",
       "      <td>0.222222</td>\n",
       "      <td>0.0</td>\n",
       "      <td>0.001318</td>\n",
       "      <td>0.000000</td>\n",
       "      <td>0.000000</td>\n",
       "      <td>0.001242</td>\n",
       "      <td>0.500000</td>\n",
       "      <td>7</td>\n",
       "    </tr>\n",
       "    <tr>\n",
       "      <th>...</th>\n",
       "      <td>...</td>\n",
       "      <td>...</td>\n",
       "      <td>...</td>\n",
       "      <td>...</td>\n",
       "      <td>...</td>\n",
       "      <td>...</td>\n",
       "      <td>...</td>\n",
       "      <td>...</td>\n",
       "      <td>...</td>\n",
       "    </tr>\n",
       "    <tr>\n",
       "      <th>6316</th>\n",
       "      <td>0.333333</td>\n",
       "      <td>0.160000</td>\n",
       "      <td>1.0</td>\n",
       "      <td>0.738557</td>\n",
       "      <td>0.280000</td>\n",
       "      <td>0.993593</td>\n",
       "      <td>0.686358</td>\n",
       "      <td>0.888889</td>\n",
       "      <td>3</td>\n",
       "    </tr>\n",
       "    <tr>\n",
       "      <th>6317</th>\n",
       "      <td>0.030612</td>\n",
       "      <td>0.130435</td>\n",
       "      <td>0.0</td>\n",
       "      <td>0.005754</td>\n",
       "      <td>0.217391</td>\n",
       "      <td>0.993593</td>\n",
       "      <td>0.000010</td>\n",
       "      <td>0.878788</td>\n",
       "      <td>7</td>\n",
       "    </tr>\n",
       "    <tr>\n",
       "      <th>6318</th>\n",
       "      <td>0.055556</td>\n",
       "      <td>0.043478</td>\n",
       "      <td>0.0</td>\n",
       "      <td>0.015663</td>\n",
       "      <td>0.217391</td>\n",
       "      <td>0.993593</td>\n",
       "      <td>0.015663</td>\n",
       "      <td>0.000000</td>\n",
       "      <td>7</td>\n",
       "    </tr>\n",
       "    <tr>\n",
       "      <th>6319</th>\n",
       "      <td>0.076923</td>\n",
       "      <td>0.086957</td>\n",
       "      <td>0.0</td>\n",
       "      <td>0.068694</td>\n",
       "      <td>0.217391</td>\n",
       "      <td>0.993593</td>\n",
       "      <td>0.000415</td>\n",
       "      <td>0.000000</td>\n",
       "      <td>7</td>\n",
       "    </tr>\n",
       "    <tr>\n",
       "      <th>6320</th>\n",
       "      <td>0.016393</td>\n",
       "      <td>0.043478</td>\n",
       "      <td>0.0</td>\n",
       "      <td>0.340351</td>\n",
       "      <td>0.217391</td>\n",
       "      <td>0.993593</td>\n",
       "      <td>0.340351</td>\n",
       "      <td>0.000000</td>\n",
       "      <td>7</td>\n",
       "    </tr>\n",
       "  </tbody>\n",
       "</table>\n",
       "<p>6321 rows × 9 columns</p>\n",
       "</div>"
      ],
      "text/plain": [
       "      Bidder_Tendency  Bidding_Ratio  Successive_Outbidding  Last_Bidding  \\\n",
       "0            0.200000       0.400000                    0.0      0.000028   \n",
       "1            0.024390       0.200000                    0.0      0.013123   \n",
       "2            0.142857       0.200000                    0.0      0.003042   \n",
       "3            0.100000       0.200000                    0.0      0.097477   \n",
       "4            0.051282       0.222222                    0.0      0.001318   \n",
       "...               ...            ...                    ...           ...   \n",
       "6316         0.333333       0.160000                    1.0      0.738557   \n",
       "6317         0.030612       0.130435                    0.0      0.005754   \n",
       "6318         0.055556       0.043478                    0.0      0.015663   \n",
       "6319         0.076923       0.086957                    0.0      0.068694   \n",
       "6320         0.016393       0.043478                    0.0      0.340351   \n",
       "\n",
       "      Auction_Bids  Starting_Price_Average  Early_Bidding  Winning_Ratio  \\\n",
       "0         0.000000                0.993593       0.000028       0.666667   \n",
       "1         0.000000                0.993593       0.013123       0.944444   \n",
       "2         0.000000                0.993593       0.003042       1.000000   \n",
       "3         0.000000                0.993593       0.097477       1.000000   \n",
       "4         0.000000                0.000000       0.001242       0.500000   \n",
       "...            ...                     ...            ...            ...   \n",
       "6316      0.280000                0.993593       0.686358       0.888889   \n",
       "6317      0.217391                0.993593       0.000010       0.878788   \n",
       "6318      0.217391                0.993593       0.015663       0.000000   \n",
       "6319      0.217391                0.993593       0.000415       0.000000   \n",
       "6320      0.217391                0.993593       0.340351       0.000000   \n",
       "\n",
       "      Auction_Duration  \n",
       "0                    5  \n",
       "1                    5  \n",
       "2                    5  \n",
       "3                    5  \n",
       "4                    7  \n",
       "...                ...  \n",
       "6316                 3  \n",
       "6317                 7  \n",
       "6318                 7  \n",
       "6319                 7  \n",
       "6320                 7  \n",
       "\n",
       "[6321 rows x 9 columns]"
      ]
     },
     "execution_count": 4,
     "metadata": {},
     "output_type": "execute_result"
    }
   ],
   "source": [
    "X = shill.drop(columns=['Class', 'Record_ID', 'Auction_ID', 'Bidder_ID'])\n",
    "y = shill.Class\n",
    "X"
   ]
  },
  {
   "cell_type": "code",
   "execution_count": 5,
   "metadata": {},
   "outputs": [
    {
     "data": {
      "text/plain": [
       "0    5646\n",
       "1     675\n",
       "Name: Class, dtype: int64"
      ]
     },
     "execution_count": 5,
     "metadata": {},
     "output_type": "execute_result"
    }
   ],
   "source": [
    "y.value_counts()"
   ]
  },
  {
   "cell_type": "code",
   "execution_count": 6,
   "metadata": {},
   "outputs": [
    {
     "name": "stdout",
     "output_type": "stream",
     "text": [
      "Training set: 4044\n",
      "Validation set: 1012\n",
      "Test set: 1265\n"
     ]
    }
   ],
   "source": [
    "X_train, X_test, y_train, y_test = train_test_split(X, y, test_size = 0.2, stratify = y, random_state = seed)\n",
    "\n",
    "scaler = StandardScaler()\n",
    "\n",
    "X_train = scaler.fit_transform(X_train)\n",
    "X_test = scaler.transform(X_test)\n",
    "\n",
    "X_train, X_val, y_train, y_val = train_test_split(X_train, y_train, test_size = 0.2, stratify = y_train, random_state = seed)\n",
    "\n",
    "print(f\"Training set: {X_train.shape[0]}\")\n",
    "print(f\"Validation set: {X_val.shape[0]}\")\n",
    "print(f\"Test set: {X_test.shape[0]}\")"
   ]
  },
  {
   "cell_type": "markdown",
   "metadata": {},
   "source": [
    "# Class balance by Undersampling\n",
    "\n",
    "When undersampling, we aim to remove a number of the rows of the majority class (rows where class=0) in order to match the number of rows of the minority class (rows where class=1)."
   ]
  },
  {
   "cell_type": "code",
   "execution_count": 7,
   "metadata": {},
   "outputs": [
    {
     "data": {
      "text/plain": [
       "0    3612\n",
       "1     432\n",
       "Name: Class, dtype: int64"
      ]
     },
     "execution_count": 7,
     "metadata": {},
     "output_type": "execute_result"
    }
   ],
   "source": [
    "y_train.value_counts()"
   ]
  },
  {
   "cell_type": "code",
   "execution_count": 8,
   "metadata": {},
   "outputs": [],
   "source": [
    "rus = RandomUnderSampler(random_state=seed)\n",
    "X_train_us_ini, y_train_us_ini = rus.fit_resample(X_train, y_train)"
   ]
  },
  {
   "cell_type": "code",
   "execution_count": 9,
   "metadata": {},
   "outputs": [
    {
     "data": {
      "text/plain": [
       "0    432\n",
       "1    432\n",
       "Name: Class, dtype: int64"
      ]
     },
     "execution_count": 9,
     "metadata": {},
     "output_type": "execute_result"
    }
   ],
   "source": [
    "y_train_us_ini.value_counts()"
   ]
  },
  {
   "cell_type": "code",
   "execution_count": 10,
   "metadata": {},
   "outputs": [],
   "source": [
    "X_train_us, X_val_us, y_train_us, y_val_us = train_test_split(X_train_us_ini, y_train_us_ini, test_size=0.2, random_state = seed)"
   ]
  },
  {
   "cell_type": "markdown",
   "metadata": {},
   "source": [
    "# Class balance by oversampling with SMOTE\n",
    "\n",
    "Now, oversampling will be performed on the training data."
   ]
  },
  {
   "cell_type": "code",
   "execution_count": 11,
   "metadata": {},
   "outputs": [
    {
     "data": {
      "text/plain": [
       "0    3612\n",
       "1     432\n",
       "Name: Class, dtype: int64"
      ]
     },
     "execution_count": 11,
     "metadata": {},
     "output_type": "execute_result"
    }
   ],
   "source": [
    "y_train.value_counts()"
   ]
  },
  {
   "cell_type": "code",
   "execution_count": 12,
   "metadata": {},
   "outputs": [
    {
     "data": {
      "text/plain": [
       "0    3612\n",
       "1    3612\n",
       "Name: Class, dtype: int64"
      ]
     },
     "execution_count": 12,
     "metadata": {},
     "output_type": "execute_result"
    }
   ],
   "source": [
    "smote = SMOTE(random_state=seed)\n",
    "\n",
    "X_train_os_ini, y_train_os_ini = smote.fit_resample(X_train, y_train)\n",
    "\n",
    "y_train_os_ini.value_counts()"
   ]
  },
  {
   "cell_type": "code",
   "execution_count": 13,
   "metadata": {},
   "outputs": [],
   "source": [
    "X_train_os, X_val_os, y_train_os, y_val_os = train_test_split(X_train_os_ini, y_train_os_ini, stratify=y_train_os_ini, test_size=0.2, random_state = seed)"
   ]
  },
  {
   "cell_type": "markdown",
   "metadata": {},
   "source": [
    "# Hybrid Sampling Method\n",
    "\n",
    "A combination of under- and oversampling method using pipeline"
   ]
  },
  {
   "cell_type": "code",
   "execution_count": 14,
   "metadata": {},
   "outputs": [
    {
     "name": "stdout",
     "output_type": "stream",
     "text": [
      "Counter({0: 675, 1: 675})\n"
     ]
    }
   ],
   "source": [
    "# define pipeline\n",
    "over = SMOTE(sampling_strategy = \"not minority\")\n",
    "under = RandomUnderSampler(sampling_strategy = \"majority\")\n",
    "steps = [('o', over), ('u', under)]\n",
    "pipeline = Pipeline(steps=steps)\n",
    "\n",
    "# transform the dataset\n",
    "X_h, y_h = pipeline.fit_resample(X, y)\n",
    "# summarize the new class distribution\n",
    "counter = Counter(y_h)\n",
    "print(counter)"
   ]
  },
  {
   "cell_type": "code",
   "execution_count": 15,
   "metadata": {},
   "outputs": [
    {
     "name": "stdout",
     "output_type": "stream",
     "text": [
      "Training set: 864\n",
      "Validation set: 216\n",
      "Test set: 270\n"
     ]
    }
   ],
   "source": [
    "X_train_h, X_test_h, y_train_h, y_test_h = train_test_split(X_h, y_h, test_size=0.2, stratify = y_h, random_state=seed)\n",
    "\n",
    "scaler = StandardScaler()\n",
    "\n",
    "X_train_h = scaler.fit_transform(X_train_h)\n",
    "X_test_h = scaler.transform(X_test_h)\n",
    "\n",
    "X_train_h, X_val_h, y_train_h, y_val_h = train_test_split(X_train_h, y_train_h, test_size=0.2, stratify=y_train_h, random_state=seed)\n",
    "\n",
    "print(f\"Training set: {X_train_h.shape[0]}\")\n",
    "print(f\"Validation set: {X_val_h.shape[0]}\")\n",
    "print(f\"Test set: {X_test_h.shape[0]}\")"
   ]
  },
  {
   "cell_type": "markdown",
   "metadata": {},
   "source": [
    "# Applying Ensemble Learning Algorithms"
   ]
  },
  {
   "cell_type": "markdown",
   "metadata": {},
   "source": [
    "Ensemble Algorithms\n",
    "\n",
    "    1. Bagged Decision Trees\n",
    "    2. Extra Trees\n",
    "    3. Stochastic Gradient Boosting\n",
    "    4. AdaBoost\n",
    "    5. XGBoost\n",
    "    6. Gradient Boosting\n",
    "    \n",
    "Hyperparameter Tuning\n",
    "After spot-checking machine learning algorithms and imbalanced algorithms, you will have some idea of what works and what does not on your specific dataset.\n",
    "\n",
    "The simplest approach to hyperparameter tuning is to select the top five or 10 algorithms or algorithm combinations that performed well and tune the hyperparameters for each.\n",
    "\n",
    "There are three popular hyperparameter tuning algorithms that you may choose from:\n",
    "\n",
    "    Random Search\n",
    "    Grid Search\n",
    "    Bayesian Optimization"
   ]
  },
  {
   "cell_type": "markdown",
   "metadata": {},
   "source": [
    "## Bagged Decision Trees"
   ]
  },
  {
   "cell_type": "markdown",
   "metadata": {},
   "source": [
    "### Imbalanced data"
   ]
  },
  {
   "cell_type": "code",
   "execution_count": 16,
   "metadata": {},
   "outputs": [],
   "source": [
    "from sklearn.model_selection import KFold\n",
    "from sklearn.model_selection import cross_val_score, cross_validate\n",
    "from sklearn.ensemble import BaggingClassifier\n",
    "from sklearn.tree import DecisionTreeClassifier\n",
    "from sklearn.metrics import make_scorer, accuracy_score, precision_score, recall_score, f1_score"
   ]
  },
  {
   "cell_type": "markdown",
   "metadata": {},
   "source": [
    "#### Applying Algorithm"
   ]
  },
  {
   "cell_type": "code",
   "execution_count": 17,
   "metadata": {},
   "outputs": [],
   "source": [
    "# kfold = KFold(n_splits = 10, random_state = seed)\n",
    "# cart = DecisionTreeClassifier()\n",
    "# scaler = StandardScaler()\n",
    "\n",
    "# X_scaled = scaler.fit_transform(X)\n",
    "\n",
    "# kfold = model_selection.KFold(n_splits=10, random_state=42)\n",
    "# bclf = BaggingClassifier(base_estimator = cart, n_estimators = 200, random_state = seed)\n",
    "\n",
    "# scoring = ['accuracy', 'precision', 'recall', 'f1']\n",
    "\n",
    "# results = model_selection.cross_validate(bclf, X_scaled, y, cv = kfold, scoring = scoring)\n",
    "\n",
    "# for name in results.keys():\n",
    "#      print('{} {:.6f}'.format(name, np.average(results[name])))"
   ]
  },
  {
   "cell_type": "code",
   "execution_count": 18,
   "metadata": {},
   "outputs": [],
   "source": [
    "cart = DecisionTreeClassifier()\n",
    "scaler = StandardScaler()\n",
    "\n",
    "\n",
    "bclf = BaggingClassifier(base_estimator = cart, random_state = seed)"
   ]
  },
  {
   "cell_type": "code",
   "execution_count": 19,
   "metadata": {},
   "outputs": [
    {
     "data": {
      "text/plain": [
       "{'base_estimator__ccp_alpha': 0.0,\n",
       " 'base_estimator__class_weight': None,\n",
       " 'base_estimator__criterion': 'gini',\n",
       " 'base_estimator__max_depth': None,\n",
       " 'base_estimator__max_features': None,\n",
       " 'base_estimator__max_leaf_nodes': None,\n",
       " 'base_estimator__min_impurity_decrease': 0.0,\n",
       " 'base_estimator__min_samples_leaf': 1,\n",
       " 'base_estimator__min_samples_split': 2,\n",
       " 'base_estimator__min_weight_fraction_leaf': 0.0,\n",
       " 'base_estimator__random_state': None,\n",
       " 'base_estimator__splitter': 'best',\n",
       " 'base_estimator': DecisionTreeClassifier(),\n",
       " 'bootstrap': True,\n",
       " 'bootstrap_features': False,\n",
       " 'max_features': 1.0,\n",
       " 'max_samples': 1.0,\n",
       " 'n_estimators': 10,\n",
       " 'n_jobs': None,\n",
       " 'oob_score': False,\n",
       " 'random_state': 42,\n",
       " 'verbose': 0,\n",
       " 'warm_start': False}"
      ]
     },
     "execution_count": 19,
     "metadata": {},
     "output_type": "execute_result"
    }
   ],
   "source": [
    "from sklearn.experimental import enable_halving_search_cv\n",
    "from sklearn.model_selection import HalvingGridSearchCV\n",
    "\n",
    "bclf.get_params()"
   ]
  },
  {
   "cell_type": "code",
   "execution_count": 20,
   "metadata": {},
   "outputs": [
    {
     "data": {
      "text/plain": [
       "BaggingClassifier(base_estimator=DecisionTreeClassifier(), max_features=0.9,\n",
       "                  max_samples=0.5, n_estimators=16, random_state=42)"
      ]
     },
     "execution_count": 20,
     "metadata": {},
     "output_type": "execute_result"
    }
   ],
   "source": [
    "param_grid = {'max_samples': [0.05, 0.1, 0.2, 0.5],\n",
    "              'max_features': [0.3,0.5,0.7,0.9],\n",
    "             }\n",
    "\n",
    "\n",
    "sh = HalvingGridSearchCV(bclf, param_grid, cv = 10,\n",
    "                         factor=2, resource = 'n_estimators',\n",
    "                         max_resources=30).fit(X_train, y_train)\n",
    "sh.best_estimator_\n",
    "# bclf = BaggingClassifier(base_estimator = cart, n_estimators = 402, max_samples = 0.08, max_features = 0.06, random_state = seed).fit(X_train, y_train)"
   ]
  },
  {
   "cell_type": "code",
   "execution_count": 21,
   "metadata": {},
   "outputs": [
    {
     "name": "stdout",
     "output_type": "stream",
     "text": [
      "              precision    recall  f1-score   support\n",
      "\n",
      "          No   0.998230  0.998230  0.998230      1130\n",
      "         Yes   0.985185  0.985185  0.985185       135\n",
      "\n",
      "    accuracy                       0.996838      1265\n",
      "   macro avg   0.991708  0.991708  0.991708      1265\n",
      "weighted avg   0.996838  0.996838  0.996838      1265\n",
      "\n"
     ]
    }
   ],
   "source": [
    "bclf = BaggingClassifier(base_estimator = DecisionTreeClassifier(), n_estimators = 16, max_samples = 0.5, max_features = 0.9, random_state = seed).fit(X_train, y_train)\n",
    "y_pred = bclf.predict(X_test)\n",
    "print(classification_report(y_test, y_pred, target_names = ['No','Yes'], digits = 6))"
   ]
  },
  {
   "cell_type": "markdown",
   "metadata": {},
   "source": [
    "### Undersampled Data"
   ]
  },
  {
   "cell_type": "code",
   "execution_count": 22,
   "metadata": {},
   "outputs": [],
   "source": [
    "bclf = BaggingClassifier(base_estimator = cart, random_state = seed)"
   ]
  },
  {
   "cell_type": "code",
   "execution_count": 23,
   "metadata": {},
   "outputs": [
    {
     "data": {
      "text/plain": [
       "BaggingClassifier(base_estimator=DecisionTreeClassifier(), max_features=0.9,\n",
       "                  max_samples=0.5, n_estimators=16, random_state=42)"
      ]
     },
     "execution_count": 23,
     "metadata": {},
     "output_type": "execute_result"
    }
   ],
   "source": [
    "# hyperparameter tuning\n",
    "param_grid = {'max_samples': [0.05, 0.1, 0.2, 0.5],\n",
    "              'max_features': [0.3,0.5,0.7,0.9],\n",
    "             }\n",
    "\n",
    "\n",
    "sh = HalvingGridSearchCV(bclf, param_grid, cv = 10,\n",
    "                         factor=2, resource = 'n_estimators',\n",
    "                         max_resources=30).fit(X_train_us, y_train_us)\n",
    "sh.best_estimator_"
   ]
  },
  {
   "cell_type": "code",
   "execution_count": 24,
   "metadata": {},
   "outputs": [
    {
     "name": "stdout",
     "output_type": "stream",
     "text": [
      "              precision    recall  f1-score   support\n",
      "\n",
      "          No   1.000000  0.981416  0.990621      1130\n",
      "         Yes   0.865385  1.000000  0.927835       135\n",
      "\n",
      "    accuracy                       0.983399      1265\n",
      "   macro avg   0.932692  0.990708  0.959228      1265\n",
      "weighted avg   0.985634  0.983399  0.983920      1265\n",
      "\n"
     ]
    }
   ],
   "source": [
    "bclf = BaggingClassifier(base_estimator = DecisionTreeClassifier(), n_estimators = 16, max_samples = 0.5, max_features = 0.9, random_state = seed).fit(X_train_us, y_train_us)\n",
    "y_pred = bclf.predict(X_test)\n",
    "print(classification_report(y_test, y_pred, target_names = ['No','Yes'], digits = 6))"
   ]
  },
  {
   "cell_type": "code",
   "execution_count": null,
   "metadata": {},
   "outputs": [],
   "source": []
  },
  {
   "cell_type": "code",
   "execution_count": null,
   "metadata": {},
   "outputs": [],
   "source": []
  },
  {
   "cell_type": "markdown",
   "metadata": {},
   "source": [
    "### Oversampled Data"
   ]
  },
  {
   "cell_type": "code",
   "execution_count": 25,
   "metadata": {},
   "outputs": [],
   "source": [
    "bclf = BaggingClassifier(base_estimator = cart, random_state = seed)"
   ]
  },
  {
   "cell_type": "code",
   "execution_count": 26,
   "metadata": {},
   "outputs": [
    {
     "data": {
      "text/plain": [
       "BaggingClassifier(base_estimator=DecisionTreeClassifier(), max_features=0.9,\n",
       "                  max_samples=0.5, n_estimators=16, random_state=42)"
      ]
     },
     "execution_count": 26,
     "metadata": {},
     "output_type": "execute_result"
    }
   ],
   "source": [
    "# hyperparameter tuning\n",
    "param_grid = {'max_samples': [0.05, 0.1, 0.2, 0.5],\n",
    "              'max_features': [0.3,0.5,0.7,0.9],\n",
    "             }\n",
    "\n",
    "\n",
    "sh = HalvingGridSearchCV(bclf, param_grid, cv = 10,\n",
    "                         factor=2, resource = 'n_estimators',\n",
    "                         max_resources=30).fit(X_train_os, y_train_os)\n",
    "sh.best_estimator_"
   ]
  },
  {
   "cell_type": "code",
   "execution_count": 27,
   "metadata": {},
   "outputs": [
    {
     "name": "stdout",
     "output_type": "stream",
     "text": [
      "              precision    recall  f1-score   support\n",
      "\n",
      "          No   0.999114  0.998230  0.998672      1130\n",
      "         Yes   0.985294  0.992593  0.988930       135\n",
      "\n",
      "    accuracy                       0.997628      1265\n",
      "   macro avg   0.992204  0.995411  0.993801      1265\n",
      "weighted avg   0.997639  0.997628  0.997632      1265\n",
      "\n"
     ]
    }
   ],
   "source": [
    "bclf = BaggingClassifier(base_estimator = DecisionTreeClassifier(), n_estimators = 16, max_samples = 0.5, max_features = 0.9, random_state = seed).fit(X_train_os, y_train_os)\n",
    "y_pred = bclf.predict(X_test)\n",
    "print(classification_report(y_test, y_pred, target_names = ['No','Yes'], digits = 6))"
   ]
  },
  {
   "cell_type": "code",
   "execution_count": null,
   "metadata": {},
   "outputs": [],
   "source": []
  },
  {
   "cell_type": "code",
   "execution_count": null,
   "metadata": {},
   "outputs": [],
   "source": []
  },
  {
   "cell_type": "markdown",
   "metadata": {},
   "source": [
    "### Hybrid Sampled Data"
   ]
  },
  {
   "cell_type": "code",
   "execution_count": 28,
   "metadata": {},
   "outputs": [],
   "source": [
    "bclf = BaggingClassifier(base_estimator = cart, n_estimators = 150, random_state = seed)"
   ]
  },
  {
   "cell_type": "code",
   "execution_count": 29,
   "metadata": {},
   "outputs": [
    {
     "data": {
      "text/plain": [
       "{'max_features': 0.9, 'max_samples': 0.2, 'n_estimators': 16}"
      ]
     },
     "execution_count": 29,
     "metadata": {},
     "output_type": "execute_result"
    }
   ],
   "source": [
    "# hyperparameter tuning\n",
    "param_grid = {'max_samples': [0.05, 0.1, 0.2, 0.5],\n",
    "              'max_features': [0.3,0.5,0.7,0.9],\n",
    "             }\n",
    "\n",
    "\n",
    "sh = HalvingGridSearchCV(bclf, param_grid, cv = 10,\n",
    "                         factor=2, resource = 'n_estimators',\n",
    "                         max_resources=30).fit(X_train_h, y_train_h)\n",
    "sh.best_params_"
   ]
  },
  {
   "cell_type": "code",
   "execution_count": 30,
   "metadata": {
    "scrolled": true
   },
   "outputs": [
    {
     "name": "stdout",
     "output_type": "stream",
     "text": [
      "              precision    recall  f1-score   support\n",
      "\n",
      "          No   1.000000  0.330088  0.496341      1130\n",
      "         Yes   0.151345  1.000000  0.262902       135\n",
      "\n",
      "    accuracy                       0.401581      1265\n",
      "   macro avg   0.575673  0.665044  0.379621      1265\n",
      "weighted avg   0.909432  0.401581  0.471428      1265\n",
      "\n"
     ]
    }
   ],
   "source": [
    "bclf = BaggingClassifier(base_estimator = DecisionTreeClassifier(), n_estimators = 16, max_samples = 0.5, max_features = 0.9, random_state = seed).fit(X_train_h, y_train_h)\n",
    "\n",
    "y_pred = bclf.predict(X_test)\n",
    "print(classification_report(y_test, y_pred, target_names = ['No','Yes'], digits = 6))"
   ]
  },
  {
   "cell_type": "code",
   "execution_count": null,
   "metadata": {},
   "outputs": [],
   "source": []
  },
  {
   "cell_type": "code",
   "execution_count": null,
   "metadata": {},
   "outputs": [],
   "source": []
  },
  {
   "cell_type": "markdown",
   "metadata": {},
   "source": [
    "## Extra Trees Classifiers"
   ]
  },
  {
   "cell_type": "markdown",
   "metadata": {},
   "source": [
    "### Imbalanced Data"
   ]
  },
  {
   "cell_type": "code",
   "execution_count": 81,
   "metadata": {},
   "outputs": [
    {
     "data": {
      "text/plain": [
       "{'bootstrap': False,\n",
       " 'ccp_alpha': 0.0,\n",
       " 'class_weight': None,\n",
       " 'criterion': 'gini',\n",
       " 'max_depth': None,\n",
       " 'max_features': 5,\n",
       " 'max_leaf_nodes': None,\n",
       " 'max_samples': None,\n",
       " 'min_impurity_decrease': 0.0,\n",
       " 'min_samples_leaf': 1,\n",
       " 'min_samples_split': 2,\n",
       " 'min_weight_fraction_leaf': 0.0,\n",
       " 'n_estimators': 150,\n",
       " 'n_jobs': None,\n",
       " 'oob_score': False,\n",
       " 'random_state': None,\n",
       " 'verbose': 0,\n",
       " 'warm_start': False}"
      ]
     },
     "execution_count": 81,
     "metadata": {},
     "output_type": "execute_result"
    }
   ],
   "source": [
    "from sklearn.ensemble import ExtraTreesClassifier\n",
    "xtclf = ExtraTreesClassifier(n_estimators = 150, max_features = 5)\n",
    "xtclf.get_params()"
   ]
  },
  {
   "cell_type": "code",
   "execution_count": 84,
   "metadata": {},
   "outputs": [
    {
     "data": {
      "text/plain": [
       "ExtraTreesClassifier(max_features=0.9, n_estimators=28)"
      ]
     },
     "execution_count": 84,
     "metadata": {},
     "output_type": "execute_result"
    }
   ],
   "source": [
    "# hyperparameter tuning\n",
    "param_grid = {#'max_depth': [0.05, 0.1, 0.2, 0.5],\n",
    "              'max_features': [0.3,0.5,0.7,0.9],\n",
    "              #'n_jobs': [20, 60, 80, 120]\n",
    "             }\n",
    "\n",
    "\n",
    "sh = HalvingGridSearchCV(xtclf, param_grid, cv = 10,\n",
    "                         factor=2, resource = 'n_estimators',\n",
    "                         max_resources=30).fit(X_train, y_train)\n",
    "sh.best_estimator_"
   ]
  },
  {
   "cell_type": "code",
   "execution_count": 86,
   "metadata": {},
   "outputs": [
    {
     "name": "stdout",
     "output_type": "stream",
     "text": [
      "              precision    recall  f1-score   support\n",
      "\n",
      "          No   0.997352  1.000000  0.998674      1130\n",
      "         Yes   1.000000  0.977778  0.988764       135\n",
      "\n",
      "    accuracy                       0.997628      1265\n",
      "   macro avg   0.998676  0.988889  0.993719      1265\n",
      "weighted avg   0.997635  0.997628  0.997617      1265\n",
      "\n"
     ]
    }
   ],
   "source": [
    "xtclf = ExtraTreesClassifier(n_estimators = 28, max_features = 0.9).fit(X_train, y_train)\n",
    "\n",
    "y_pred = xtclf.predict(X_test)\n",
    "print(classification_report(y_test, y_pred, target_names = ['No','Yes'], digits = 6))"
   ]
  },
  {
   "cell_type": "code",
   "execution_count": null,
   "metadata": {},
   "outputs": [],
   "source": []
  },
  {
   "cell_type": "markdown",
   "metadata": {},
   "source": [
    "### Undersampled Data"
   ]
  },
  {
   "cell_type": "code",
   "execution_count": 91,
   "metadata": {},
   "outputs": [],
   "source": [
    "xtclf = ExtraTreesClassifier(n_estimators = 150, max_features = 5)\n"
   ]
  },
  {
   "cell_type": "code",
   "execution_count": 99,
   "metadata": {},
   "outputs": [
    {
     "data": {
      "text/plain": [
       "ExtraTreesClassifier(max_features=0.7, n_estimators=28)"
      ]
     },
     "execution_count": 99,
     "metadata": {},
     "output_type": "execute_result"
    }
   ],
   "source": [
    "# hyperparameter tuning\n",
    "param_grid = {#'max_depth': [0.05, 0.1, 0.2, 0.5],\n",
    "              'max_features': [0.3,0.5,0.7,0.9],\n",
    "              #'n_jobs': [20, 60, 80, 120]\n",
    "             }\n",
    "\n",
    "\n",
    "sh = HalvingGridSearchCV(xtclf, param_grid, cv = 10,\n",
    "                         factor=2, resource = 'n_estimators',\n",
    "                         max_resources=30).fit(X_train_us, y_train_us)\n",
    "sh.best_estimator_"
   ]
  },
  {
   "cell_type": "code",
   "execution_count": 100,
   "metadata": {},
   "outputs": [
    {
     "name": "stdout",
     "output_type": "stream",
     "text": [
      "              precision    recall  f1-score   support\n",
      "\n",
      "          No   1.000000  0.983186  0.991522      1130\n",
      "         Yes   0.876623  1.000000  0.934256       135\n",
      "\n",
      "    accuracy                       0.984980      1265\n",
      "   macro avg   0.938312  0.991593  0.962889      1265\n",
      "weighted avg   0.986833  0.984980  0.985410      1265\n",
      "\n"
     ]
    }
   ],
   "source": [
    "xtclf = ExtraTreesClassifier(n_estimators = 28, max_features = 0.7).fit(X_train_us, y_train_us)\n",
    "\n",
    "y_pred = xtclf.predict(X_test)\n",
    "print(classification_report(y_test, y_pred, target_names = ['No','Yes'], digits = 6))"
   ]
  },
  {
   "cell_type": "markdown",
   "metadata": {},
   "source": [
    "### Oversampled Data"
   ]
  },
  {
   "cell_type": "code",
   "execution_count": 101,
   "metadata": {},
   "outputs": [],
   "source": [
    "xtclf = ExtraTreesClassifier(n_estimators = 150, max_features = 5)\n"
   ]
  },
  {
   "cell_type": "code",
   "execution_count": 104,
   "metadata": {},
   "outputs": [
    {
     "data": {
      "text/plain": [
       "ExtraTreesClassifier(max_features=0.9, n_estimators=28)"
      ]
     },
     "execution_count": 104,
     "metadata": {},
     "output_type": "execute_result"
    }
   ],
   "source": [
    "# hyperparameter tuning\n",
    "param_grid = {#'max_depth': [0.05, 0.1, 0.2, 0.5],\n",
    "              'max_features': [0.3,0.5,0.7,0.9],\n",
    "              #'n_jobs': [20, 60, 80, 120]\n",
    "             }\n",
    "\n",
    "\n",
    "sh = HalvingGridSearchCV(xtclf, param_grid, cv = 10,\n",
    "                         factor=2, resource = 'n_estimators',\n",
    "                         max_resources=30).fit(X_train_os, y_train_os)\n",
    "sh.best_estimator_"
   ]
  },
  {
   "cell_type": "code",
   "execution_count": 105,
   "metadata": {},
   "outputs": [
    {
     "name": "stdout",
     "output_type": "stream",
     "text": [
      "              precision    recall  f1-score   support\n",
      "\n",
      "          No   0.996473  1.000000  0.998233      1130\n",
      "         Yes   1.000000  0.970370  0.984962       135\n",
      "\n",
      "    accuracy                       0.996838      1265\n",
      "   macro avg   0.998236  0.985185  0.991598      1265\n",
      "weighted avg   0.996849  0.996838  0.996817      1265\n",
      "\n"
     ]
    }
   ],
   "source": [
    "xtclf = ExtraTreesClassifier(n_estimators = 28, max_features = 0.9).fit(X_train_os, y_train_os)\n",
    "\n",
    "y_pred = xtclf.predict(X_test)\n",
    "print(classification_report(y_test, y_pred, target_names = ['No','Yes'], digits = 6))"
   ]
  },
  {
   "cell_type": "markdown",
   "metadata": {},
   "source": [
    "### Hybrid Sampled Data"
   ]
  },
  {
   "cell_type": "code",
   "execution_count": 38,
   "metadata": {},
   "outputs": [
    {
     "name": "stdout",
     "output_type": "stream",
     "text": [
      "              precision    recall  f1-score   support\n",
      "\n",
      "          No   1.000000  0.810619  0.895406      1130\n",
      "         Yes   0.386819  1.000000  0.557851       135\n",
      "\n",
      "    accuracy                       0.830830      1265\n",
      "   macro avg   0.693410  0.905310  0.726628      1265\n",
      "weighted avg   0.934562  0.830830  0.859382      1265\n",
      "\n"
     ]
    }
   ],
   "source": [
    "xtclf = ExtraTreesClassifier(n_estimators = 150, max_features = 5).fit(X_train_h, y_train_h)\n",
    "y_pred = xtclf.predict(X_test)\n",
    "print(classification_report(y_test, y_pred, target_names = ['No','Yes'], digits = 6))"
   ]
  },
  {
   "cell_type": "code",
   "execution_count": null,
   "metadata": {},
   "outputs": [],
   "source": []
  },
  {
   "cell_type": "code",
   "execution_count": null,
   "metadata": {},
   "outputs": [],
   "source": []
  },
  {
   "cell_type": "markdown",
   "metadata": {},
   "source": [
    "## Stochastic Gradient Boosting"
   ]
  },
  {
   "cell_type": "markdown",
   "metadata": {},
   "source": [
    "### Imbalanced Dataset"
   ]
  },
  {
   "cell_type": "code",
   "execution_count": 39,
   "metadata": {},
   "outputs": [],
   "source": [
    "from sklearn.ensemble import GradientBoostingClassifier\n",
    "# kfold = KFold(n_splits = 10, random_state = seed)\n",
    "# scaler = StandardScaler()\n",
    "\n",
    "# X_scaled = scaler.fit_transform(X)\n",
    "\n",
    "# kfold = model_selection.KFold(n_splits=10, random_state=42)\n",
    "\n",
    "# gbclf = GradientBoostingClassifier(n_estimators = 50, random_state=seed)\n",
    "\n",
    "# scoring = ['accuracy', 'precision', 'recall', 'f1']\n",
    "\n",
    "# results = model_selection.cross_validate(gbclf, X_scaled, y, cv = kfold, scoring = scoring)\n",
    "\n",
    "# for name in results.keys():\n",
    "#      print('{} {:.6f}'.format(name, np.average(results[name])))"
   ]
  },
  {
   "cell_type": "code",
   "execution_count": 40,
   "metadata": {},
   "outputs": [
    {
     "name": "stdout",
     "output_type": "stream",
     "text": [
      "              precision    recall  f1-score   support\n",
      "\n",
      "          No   0.998229  0.997345  0.997787      1130\n",
      "         Yes   0.977941  0.985185  0.981550       135\n",
      "\n",
      "    accuracy                       0.996047      1265\n",
      "   macro avg   0.988085  0.991265  0.989668      1265\n",
      "weighted avg   0.996063  0.996047  0.996054      1265\n",
      "\n"
     ]
    }
   ],
   "source": [
    "gbclf = GradientBoostingClassifier(n_estimators = 50, random_state=seed).fit(X_train, y_train)\n",
    "\n",
    "y_pred = gbclf.predict(X_test)\n",
    "print(classification_report(y_test, y_pred, target_names = ['No','Yes'], digits = 6))"
   ]
  },
  {
   "cell_type": "code",
   "execution_count": 41,
   "metadata": {},
   "outputs": [
    {
     "name": "stdout",
     "output_type": "stream",
     "text": [
      "Feature: 0, Score: 0.00314\n",
      "Feature: 1, Score: 0.00965\n",
      "Feature: 2, Score: 0.85907\n",
      "Feature: 3, Score: 0.00068\n",
      "Feature: 4, Score: 0.00013\n",
      "Feature: 5, Score: 0.00019\n",
      "Feature: 6, Score: 0.00038\n",
      "Feature: 7, Score: 0.05390\n",
      "Feature: 8, Score: 0.07285\n"
     ]
    },
    {
     "data": {
      "image/png": "[encoded data removed]",
      "text/plain": [
       "<Figure size 432x288 with 1 Axes>"
      ]
     },
     "metadata": {
      "needs_background": "light"
     },
     "output_type": "display_data"
    }
   ],
   "source": [
    "importance = gbclf.feature_importances_\n",
    "\n",
    "# summarize feature importance\n",
    "for i,v in enumerate(importance):\n",
    "    print('Feature: %0d, Score: %.5f' % (i,v))\n",
    "\n",
    "# plot feature importance\n",
    "pyplot.bar([x for x in range(len(importance))], importance)\n",
    "pyplot.show()"
   ]
  },
  {
   "cell_type": "code",
   "execution_count": null,
   "metadata": {},
   "outputs": [],
   "source": []
  },
  {
   "cell_type": "markdown",
   "metadata": {},
   "source": [
    "### Undersampled Dataset"
   ]
  },
  {
   "cell_type": "code",
   "execution_count": 42,
   "metadata": {},
   "outputs": [
    {
     "name": "stdout",
     "output_type": "stream",
     "text": [
      "              precision    recall  f1-score   support\n",
      "\n",
      "          No   0.999094  0.976106  0.987466      1130\n",
      "         Yes   0.832298  0.992593  0.905405       135\n",
      "\n",
      "    accuracy                       0.977866      1265\n",
      "   macro avg   0.915696  0.984349  0.946436      1265\n",
      "weighted avg   0.981294  0.977866  0.978709      1265\n",
      "\n"
     ]
    }
   ],
   "source": [
    "gbclf = GradientBoostingClassifier(n_estimators = 50, random_state=seed).fit(X_train_us, y_train_us)\n",
    "\n",
    "y_pred = gbclf.predict(X_test)\n",
    "print(classification_report(y_test, y_pred, target_names = ['No','Yes'], digits = 6))"
   ]
  },
  {
   "cell_type": "code",
   "execution_count": null,
   "metadata": {},
   "outputs": [],
   "source": []
  },
  {
   "cell_type": "code",
   "execution_count": null,
   "metadata": {},
   "outputs": [],
   "source": []
  },
  {
   "cell_type": "markdown",
   "metadata": {},
   "source": [
    "### Oversampled Dataset"
   ]
  },
  {
   "cell_type": "code",
   "execution_count": 43,
   "metadata": {},
   "outputs": [
    {
     "name": "stdout",
     "output_type": "stream",
     "text": [
      "              precision    recall  f1-score   support\n",
      "\n",
      "          No   1.000000  0.991150  0.995556      1130\n",
      "         Yes   0.931034  1.000000  0.964286       135\n",
      "\n",
      "    accuracy                       0.992095      1265\n",
      "   macro avg   0.965517  0.995575  0.979921      1265\n",
      "weighted avg   0.992640  0.992095  0.992218      1265\n",
      "\n"
     ]
    }
   ],
   "source": [
    "gbclf = GradientBoostingClassifier(n_estimators = 50, random_state=seed).fit(X_train_os, y_train_os)\n",
    "\n",
    "y_pred = gbclf.predict(X_test)\n",
    "print(classification_report(y_test, y_pred, target_names = ['No','Yes'], digits = 6))"
   ]
  },
  {
   "cell_type": "code",
   "execution_count": null,
   "metadata": {},
   "outputs": [],
   "source": []
  },
  {
   "cell_type": "code",
   "execution_count": null,
   "metadata": {},
   "outputs": [],
   "source": []
  },
  {
   "cell_type": "markdown",
   "metadata": {},
   "source": [
    "### Hybrid sampled Dataset"
   ]
  },
  {
   "cell_type": "code",
   "execution_count": 44,
   "metadata": {},
   "outputs": [
    {
     "name": "stdout",
     "output_type": "stream",
     "text": [
      "              precision    recall  f1-score   support\n",
      "\n",
      "          No   1.000000  0.369027  0.539108      1130\n",
      "         Yes   0.159198  1.000000  0.274669       135\n",
      "\n",
      "    accuracy                       0.436364      1265\n",
      "   macro avg   0.579599  0.684513  0.406889      1265\n",
      "weighted avg   0.910270  0.436364  0.510887      1265\n",
      "\n"
     ]
    }
   ],
   "source": [
    "gbclf = GradientBoostingClassifier(n_estimators = 50, random_state=seed).fit(X_train_h, y_train_h)\n",
    "\n",
    "y_pred = gbclf.predict(X_test)\n",
    "print(classification_report(y_test, y_pred, target_names = ['No','Yes'], digits = 6))"
   ]
  },
  {
   "cell_type": "code",
   "execution_count": null,
   "metadata": {},
   "outputs": [],
   "source": []
  },
  {
   "cell_type": "code",
   "execution_count": null,
   "metadata": {},
   "outputs": [],
   "source": []
  },
  {
   "cell_type": "markdown",
   "metadata": {},
   "source": [
    "## AdaBoost Classifier"
   ]
  },
  {
   "cell_type": "markdown",
   "metadata": {},
   "source": [
    "### Imbalanced Dataset"
   ]
  },
  {
   "cell_type": "code",
   "execution_count": 45,
   "metadata": {},
   "outputs": [],
   "source": [
    "from sklearn.ensemble import AdaBoostClassifier\n",
    "# kfold = KFold(n_splits = 10, random_state = seed)\n",
    "# scaler = StandardScaler()\n",
    "\n",
    "# X_scaled = scaler.fit_transform(X)\n",
    "\n",
    "# kfold = model_selection.KFold(n_splits = 10, random_state = 42)\n",
    "\n",
    "# abclf = AdaBoostClassifier(n_estimators = 50, random_state = seed)\n",
    "\n",
    "# scoring = ['accuracy', 'precision', 'recall', 'f1']\n",
    "\n",
    "# results = model_selection.cross_validate(abclf, X_scaled, y, cv = kfold, scoring = scoring)\n",
    "\n",
    "# for name in results.keys():\n",
    "#      print('{} {:.6f}'.format(name, np.average(results[name])))"
   ]
  },
  {
   "cell_type": "code",
   "execution_count": 46,
   "metadata": {},
   "outputs": [
    {
     "name": "stdout",
     "output_type": "stream",
     "text": [
      "              precision    recall  f1-score   support\n",
      "\n",
      "          No   1.000000  0.995575  0.997783      1130\n",
      "         Yes   0.964286  1.000000  0.981818       135\n",
      "\n",
      "    accuracy                       0.996047      1265\n",
      "   macro avg   0.982143  0.997788  0.989800      1265\n",
      "weighted avg   0.996189  0.996047  0.996079      1265\n",
      "\n"
     ]
    }
   ],
   "source": [
    "abclf = AdaBoostClassifier(n_estimators = 50, random_state=seed).fit(X_train, y_train)\n",
    "\n",
    "y_pred = abclf.predict(X_test)\n",
    "print(classification_report(y_test, y_pred, target_names = ['No','Yes'], digits = 6))"
   ]
  },
  {
   "cell_type": "code",
   "execution_count": 47,
   "metadata": {},
   "outputs": [
    {
     "name": "stdout",
     "output_type": "stream",
     "text": [
      "Feature: 0, Score: 0.06000\n",
      "Feature: 1, Score: 0.26000\n",
      "Feature: 2, Score: 0.12000\n",
      "Feature: 3, Score: 0.12000\n",
      "Feature: 4, Score: 0.04000\n",
      "Feature: 5, Score: 0.04000\n",
      "Feature: 6, Score: 0.06000\n",
      "Feature: 7, Score: 0.06000\n",
      "Feature: 8, Score: 0.24000\n"
     ]
    },
    {
     "data": {
      "image/png": "[encoded data removed]",
      "text/plain": [
       "<Figure size 432x288 with 1 Axes>"
      ]
     },
     "metadata": {
      "needs_background": "light"
     },
     "output_type": "display_data"
    }
   ],
   "source": [
    "importance = abclf.feature_importances_\n",
    "\n",
    "# summarize feature importance\n",
    "for i,v in enumerate(importance):\n",
    "    print('Feature: %0d, Score: %.5f' % (i,v))\n",
    "\n",
    "# plot feature importance\n",
    "pyplot.bar([x for x in range(len(importance))], importance)\n",
    "pyplot.show()"
   ]
  },
  {
   "cell_type": "code",
   "execution_count": null,
   "metadata": {},
   "outputs": [],
   "source": []
  },
  {
   "cell_type": "markdown",
   "metadata": {},
   "source": [
    "### Undersampled Dataset"
   ]
  },
  {
   "cell_type": "code",
   "execution_count": 48,
   "metadata": {},
   "outputs": [
    {
     "name": "stdout",
     "output_type": "stream",
     "text": [
      "              precision    recall  f1-score   support\n",
      "\n",
      "          No   0.997300  0.980531  0.988844      1130\n",
      "         Yes   0.857143  0.977778  0.913495       135\n",
      "\n",
      "    accuracy                       0.980237      1265\n",
      "   macro avg   0.927221  0.979154  0.951170      1265\n",
      "weighted avg   0.982342  0.980237  0.980803      1265\n",
      "\n"
     ]
    }
   ],
   "source": [
    "abclf = AdaBoostClassifier(n_estimators = 50, random_state=seed).fit(X_train_us, y_train_us)\n",
    "\n",
    "y_pred = abclf.predict(X_test)\n",
    "print(classification_report(y_test, y_pred, target_names = ['No','Yes'], digits = 6))"
   ]
  },
  {
   "cell_type": "code",
   "execution_count": null,
   "metadata": {},
   "outputs": [],
   "source": []
  },
  {
   "cell_type": "code",
   "execution_count": null,
   "metadata": {},
   "outputs": [],
   "source": []
  },
  {
   "cell_type": "markdown",
   "metadata": {},
   "source": [
    "### Oversampled Dataset"
   ]
  },
  {
   "cell_type": "code",
   "execution_count": 49,
   "metadata": {},
   "outputs": [
    {
     "name": "stdout",
     "output_type": "stream",
     "text": [
      "              precision    recall  f1-score   support\n",
      "\n",
      "          No   0.999111  0.994690  0.996896      1130\n",
      "         Yes   0.957143  0.992593  0.974545       135\n",
      "\n",
      "    accuracy                       0.994466      1265\n",
      "   macro avg   0.978127  0.993641  0.985721      1265\n",
      "weighted avg   0.994632  0.994466  0.994511      1265\n",
      "\n"
     ]
    }
   ],
   "source": [
    "abclf = AdaBoostClassifier(n_estimators = 50, random_state=seed).fit(X_train_os, y_train_os)\n",
    "\n",
    "y_pred = abclf.predict(X_test)\n",
    "print(classification_report(y_test, y_pred, target_names = ['No','Yes'], digits = 6))"
   ]
  },
  {
   "cell_type": "code",
   "execution_count": null,
   "metadata": {},
   "outputs": [],
   "source": []
  },
  {
   "cell_type": "code",
   "execution_count": null,
   "metadata": {},
   "outputs": [],
   "source": []
  },
  {
   "cell_type": "markdown",
   "metadata": {},
   "source": [
    "### Hybrid sampled Dataset"
   ]
  },
  {
   "cell_type": "code",
   "execution_count": 50,
   "metadata": {},
   "outputs": [
    {
     "name": "stdout",
     "output_type": "stream",
     "text": [
      "              precision    recall  f1-score   support\n",
      "\n",
      "          No   1.000000  0.508850  0.674487      1130\n",
      "         Yes   0.195652  1.000000  0.327273       135\n",
      "\n",
      "    accuracy                       0.561265      1265\n",
      "   macro avg   0.597826  0.754425  0.500880      1265\n",
      "weighted avg   0.914161  0.561265  0.637432      1265\n",
      "\n"
     ]
    }
   ],
   "source": [
    "abclf = AdaBoostClassifier(n_estimators = 50, random_state=seed).fit(X_train_h, y_train_h)\n",
    "\n",
    "y_pred = abclf.predict(X_test)\n",
    "print(classification_report(y_test, y_pred, target_names = ['No','Yes'], digits = 6))"
   ]
  },
  {
   "cell_type": "code",
   "execution_count": null,
   "metadata": {},
   "outputs": [],
   "source": []
  },
  {
   "cell_type": "code",
   "execution_count": null,
   "metadata": {},
   "outputs": [],
   "source": []
  },
  {
   "cell_type": "markdown",
   "metadata": {},
   "source": [
    "## XGBoost Classifier"
   ]
  },
  {
   "cell_type": "markdown",
   "metadata": {},
   "source": [
    "### Imbalanced Dataset"
   ]
  },
  {
   "cell_type": "code",
   "execution_count": 51,
   "metadata": {},
   "outputs": [],
   "source": [
    "from xgboost import XGBClassifier\n",
    "\n",
    "# kfold = KFold(n_splits = 10, random_state = seed)\n",
    "# scaler = StandardScaler()\n",
    "\n",
    "# X_scaled = scaler.fit_transform(X)\n",
    "\n",
    "# kfold = model_selection.KFold(n_splits = 10, random_state = 42)\n",
    "\n",
    "# xgbclf = XGBClassifier(n_estimators = 50, random_state = seed)\n",
    "\n",
    "# scoring = ['accuracy', 'precision', 'recall', 'f1']\n",
    "\n",
    "# results = model_selection.cross_validate(xgbclf, X_scaled, y, cv = kfold, scoring = scoring)\n",
    "\n",
    "# for name in results.keys():\n",
    "#      print('{} {:.6f}'.format(name, np.average(results[name])))"
   ]
  },
  {
   "cell_type": "code",
   "execution_count": 52,
   "metadata": {},
   "outputs": [
    {
     "name": "stderr",
     "output_type": "stream",
     "text": [
      "C:\\Users\\USER\\anaconda3\\lib\\site-packages\\xgboost\\sklearn.py:1224: UserWarning: The use of label encoder in XGBClassifier is deprecated and will be removed in a future release. To remove this warning, do the following: 1) Pass option use_label_encoder=False when constructing XGBClassifier object; and 2) Encode your labels (y) as integers starting with 0, i.e. 0, 1, 2, ..., [num_class - 1].\n",
      "  warnings.warn(label_encoder_deprecation_msg, UserWarning)\n"
     ]
    },
    {
     "name": "stdout",
     "output_type": "stream",
     "text": [
      "[05:37:26] WARNING: C:/Users/Administrator/workspace/xgboost-win64_release_1.5.1/src/learner.cc:1115: Starting in XGBoost 1.3.0, the default evaluation metric used with the objective 'binary:logistic' was changed from 'error' to 'logloss'. Explicitly set eval_metric if you'd like to restore the old behavior.\n",
      "              precision    recall  f1-score   support\n",
      "\n",
      "          No   0.997343  0.996460  0.996901      1130\n",
      "         Yes   0.970588  0.977778  0.974170       135\n",
      "\n",
      "    accuracy                       0.994466      1265\n",
      "   macro avg   0.983966  0.987119  0.985536      1265\n",
      "weighted avg   0.994488  0.994466  0.994475      1265\n",
      "\n"
     ]
    }
   ],
   "source": [
    "xgbclf = XGBClassifier(n_estimators = 50, random_state=seed).fit(X_train, y_train)\n",
    "\n",
    "y_pred = xgbclf.predict(X_test)\n",
    "print(classification_report(y_test, y_pred, target_names = ['No','Yes'], digits = 6))"
   ]
  },
  {
   "cell_type": "code",
   "execution_count": 53,
   "metadata": {},
   "outputs": [
    {
     "name": "stdout",
     "output_type": "stream",
     "text": [
      "Feature: 0, Score: 0.00695\n",
      "Feature: 1, Score: 0.00647\n",
      "Feature: 2, Score: 0.80607\n",
      "Feature: 3, Score: 0.01545\n",
      "Feature: 4, Score: 0.00358\n",
      "Feature: 5, Score: 0.00387\n",
      "Feature: 6, Score: 0.00512\n",
      "Feature: 7, Score: 0.08410\n",
      "Feature: 8, Score: 0.06839\n"
     ]
    },
    {
     "data": {
      "image/png": "[encoded data removed]",
      "text/plain": [
       "<Figure size 432x288 with 1 Axes>"
      ]
     },
     "metadata": {
      "needs_background": "light"
     },
     "output_type": "display_data"
    }
   ],
   "source": [
    "importance = xgbclf.feature_importances_\n",
    "\n",
    "# summarize feature importance\n",
    "for i,v in enumerate(importance):\n",
    "    print('Feature: %0d, Score: %.5f' % (i,v))\n",
    "\n",
    "# plot feature importance\n",
    "pyplot.bar([x for x in range(len(importance))], importance)\n",
    "pyplot.show()"
   ]
  },
  {
   "cell_type": "code",
   "execution_count": null,
   "metadata": {},
   "outputs": [],
   "source": []
  },
  {
   "cell_type": "markdown",
   "metadata": {},
   "source": [
    "### Undersampled Dataset"
   ]
  },
  {
   "cell_type": "code",
   "execution_count": 54,
   "metadata": {},
   "outputs": [
    {
     "name": "stdout",
     "output_type": "stream",
     "text": [
      "[05:37:26] WARNING: C:/Users/Administrator/workspace/xgboost-win64_release_1.5.1/src/learner.cc:1115: Starting in XGBoost 1.3.0, the default evaluation metric used with the objective 'binary:logistic' was changed from 'error' to 'logloss'. Explicitly set eval_metric if you'd like to restore the old behavior.\n",
      "              precision    recall  f1-score   support\n",
      "\n",
      "          No   0.999100  0.982301  0.990629      1130\n",
      "         Yes   0.870130  0.992593  0.927336       135\n",
      "\n",
      "    accuracy                       0.983399      1265\n",
      "   macro avg   0.934615  0.987447  0.958982      1265\n",
      "weighted avg   0.985336  0.983399  0.983875      1265\n",
      "\n"
     ]
    },
    {
     "name": "stderr",
     "output_type": "stream",
     "text": [
      "C:\\Users\\USER\\anaconda3\\lib\\site-packages\\xgboost\\sklearn.py:1224: UserWarning: The use of label encoder in XGBClassifier is deprecated and will be removed in a future release. To remove this warning, do the following: 1) Pass option use_label_encoder=False when constructing XGBClassifier object; and 2) Encode your labels (y) as integers starting with 0, i.e. 0, 1, 2, ..., [num_class - 1].\n",
      "  warnings.warn(label_encoder_deprecation_msg, UserWarning)\n"
     ]
    }
   ],
   "source": [
    "xgbclf = XGBClassifier(n_estimators = 50, random_state=seed).fit(X_train_us, y_train_us)\n",
    "\n",
    "y_pred = xgbclf.predict(X_test)\n",
    "print(classification_report(y_test, y_pred, target_names = ['No','Yes'], digits = 6))"
   ]
  },
  {
   "cell_type": "code",
   "execution_count": null,
   "metadata": {},
   "outputs": [],
   "source": []
  },
  {
   "cell_type": "code",
   "execution_count": null,
   "metadata": {},
   "outputs": [],
   "source": []
  },
  {
   "cell_type": "markdown",
   "metadata": {},
   "source": [
    "### Oversampled Dataset"
   ]
  },
  {
   "cell_type": "code",
   "execution_count": 55,
   "metadata": {},
   "outputs": [
    {
     "name": "stderr",
     "output_type": "stream",
     "text": [
      "C:\\Users\\USER\\anaconda3\\lib\\site-packages\\xgboost\\sklearn.py:1224: UserWarning: The use of label encoder in XGBClassifier is deprecated and will be removed in a future release. To remove this warning, do the following: 1) Pass option use_label_encoder=False when constructing XGBClassifier object; and 2) Encode your labels (y) as integers starting with 0, i.e. 0, 1, 2, ..., [num_class - 1].\n",
      "  warnings.warn(label_encoder_deprecation_msg, UserWarning)\n"
     ]
    },
    {
     "name": "stdout",
     "output_type": "stream",
     "text": [
      "[05:37:27] WARNING: C:/Users/Administrator/workspace/xgboost-win64_release_1.5.1/src/learner.cc:1115: Starting in XGBoost 1.3.0, the default evaluation metric used with the objective 'binary:logistic' was changed from 'error' to 'logloss'. Explicitly set eval_metric if you'd like to restore the old behavior.\n",
      "              precision    recall  f1-score   support\n",
      "\n",
      "          No   0.997340  0.995575  0.996457      1130\n",
      "         Yes   0.963504  0.977778  0.970588       135\n",
      "\n",
      "    accuracy                       0.993676      1265\n",
      "   macro avg   0.980422  0.986676  0.983523      1265\n",
      "weighted avg   0.993729  0.993676  0.993696      1265\n",
      "\n"
     ]
    }
   ],
   "source": [
    "xgbclf = XGBClassifier(n_estimators = 50, random_state=seed).fit(X_train_os, y_train_os)\n",
    "\n",
    "y_pred = xgbclf.predict(X_test)\n",
    "print(classification_report(y_test, y_pred, target_names = ['No','Yes'], digits = 6))"
   ]
  },
  {
   "cell_type": "code",
   "execution_count": null,
   "metadata": {},
   "outputs": [],
   "source": []
  },
  {
   "cell_type": "code",
   "execution_count": null,
   "metadata": {},
   "outputs": [],
   "source": []
  },
  {
   "cell_type": "markdown",
   "metadata": {},
   "source": [
    "### Hybrid Sampled Dataset"
   ]
  },
  {
   "cell_type": "code",
   "execution_count": 56,
   "metadata": {},
   "outputs": [
    {
     "name": "stdout",
     "output_type": "stream",
     "text": [
      "[05:37:27] WARNING: C:/Users/Administrator/workspace/xgboost-win64_release_1.5.1/src/learner.cc:1115: Starting in XGBoost 1.3.0, the default evaluation metric used with the objective 'binary:logistic' was changed from 'error' to 'logloss'. Explicitly set eval_metric if you'd like to restore the old behavior.\n",
      "              precision    recall  f1-score   support\n",
      "\n",
      "          No   1.000000  0.369027  0.539108      1130\n",
      "         Yes   0.159198  1.000000  0.274669       135\n",
      "\n",
      "    accuracy                       0.436364      1265\n",
      "   macro avg   0.579599  0.684513  0.406889      1265\n",
      "weighted avg   0.910270  0.436364  0.510887      1265\n",
      "\n"
     ]
    },
    {
     "name": "stderr",
     "output_type": "stream",
     "text": [
      "C:\\Users\\USER\\anaconda3\\lib\\site-packages\\xgboost\\sklearn.py:1224: UserWarning: The use of label encoder in XGBClassifier is deprecated and will be removed in a future release. To remove this warning, do the following: 1) Pass option use_label_encoder=False when constructing XGBClassifier object; and 2) Encode your labels (y) as integers starting with 0, i.e. 0, 1, 2, ..., [num_class - 1].\n",
      "  warnings.warn(label_encoder_deprecation_msg, UserWarning)\n"
     ]
    }
   ],
   "source": [
    "xgbclf = XGBClassifier(n_estimators = 50, random_state=seed).fit(X_train_h, y_train_h)\n",
    "\n",
    "y_pred = xgbclf.predict(X_test)\n",
    "print(classification_report(y_test, y_pred, target_names = ['No','Yes'], digits = 6))"
   ]
  },
  {
   "cell_type": "code",
   "execution_count": null,
   "metadata": {},
   "outputs": [],
   "source": []
  },
  {
   "cell_type": "code",
   "execution_count": null,
   "metadata": {},
   "outputs": [],
   "source": []
  }
 ],
 "metadata": {
  "kernelspec": {
   "display_name": "Python 3",
   "language": "python",
   "name": "python3"
  },
  "language_info": {
   "codemirror_mode": {
    "name": "ipython",
    "version": 3
   },
   "file_extension": ".py",
   "mimetype": "text/x-python",
   "name": "python",
   "nbconvert_exporter": "python",
   "pygments_lexer": "ipython3",
   "version": "3.8.12"
  }
 },
 "nbformat": 4,
 "nbformat_minor": 4
}
